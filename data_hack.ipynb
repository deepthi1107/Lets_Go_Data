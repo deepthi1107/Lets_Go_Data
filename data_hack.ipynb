{
 "cells": [
  {
   "cell_type": "markdown",
   "id": "487fee6a",
   "metadata": {},
   "source": [
    "# Importing Libraries"
   ]
  },
  {
   "cell_type": "code",
   "execution_count": 2,
   "id": "aeb95407",
   "metadata": {},
   "outputs": [],
   "source": [
    "import pandas as pd\n",
    "import numpy as np\n",
    "import seaborn as sns\n",
    "import matplotlib.pyplot as plt\n",
    "from sklearn import preprocessing\n",
    "from sklearn.model_selection import train_test_split\n",
    "import pickle\n",
    "from sklearn.neighbors import KNeighborsClassifier\n",
    "from sklearn.model_selection import cross_val_score\n",
    "from sklearn.linear_model import LogisticRegression\n",
    "from sklearn.metrics import accuracy_score\n",
    "from sklearn.ensemble import RandomForestClassifier"
   ]
  },
  {
   "cell_type": "code",
   "execution_count": 3,
   "id": "86beec81",
   "metadata": {},
   "outputs": [],
   "source": [
    "# loading the dataset\n",
    "df=pd.read_excel(\"Book2.xlsx\")"
   ]
  },
  {
   "cell_type": "code",
   "execution_count": 4,
   "id": "7feb9b5d",
   "metadata": {},
   "outputs": [
    {
     "data": {
      "text/html": [
       "<div>\n",
       "<style scoped>\n",
       "    .dataframe tbody tr th:only-of-type {\n",
       "        vertical-align: middle;\n",
       "    }\n",
       "\n",
       "    .dataframe tbody tr th {\n",
       "        vertical-align: top;\n",
       "    }\n",
       "\n",
       "    .dataframe thead th {\n",
       "        text-align: right;\n",
       "    }\n",
       "</style>\n",
       "<table border=\"1\" class=\"dataframe\">\n",
       "  <thead>\n",
       "    <tr style=\"text-align: right;\">\n",
       "      <th></th>\n",
       "      <th>State</th>\n",
       "      <th>District_name</th>\n",
       "      <th>Literacy_rate</th>\n",
       "      <th>Literacy_rate_category</th>\n",
       "      <th>Literacy_rate_category_number</th>\n",
       "      <th>District_number</th>\n",
       "    </tr>\n",
       "  </thead>\n",
       "  <tbody>\n",
       "    <tr>\n",
       "      <th>0</th>\n",
       "      <td>1</td>\n",
       "      <td>Bandipore</td>\n",
       "      <td>52.65</td>\n",
       "      <td>low</td>\n",
       "      <td>2</td>\n",
       "      <td>1</td>\n",
       "    </tr>\n",
       "    <tr>\n",
       "      <th>1</th>\n",
       "      <td>1</td>\n",
       "      <td>Anantnag</td>\n",
       "      <td>62.42</td>\n",
       "      <td>low</td>\n",
       "      <td>2</td>\n",
       "      <td>2</td>\n",
       "    </tr>\n",
       "    <tr>\n",
       "      <th>2</th>\n",
       "      <td>1</td>\n",
       "      <td>Baramulla</td>\n",
       "      <td>55.01</td>\n",
       "      <td>low</td>\n",
       "      <td>2</td>\n",
       "      <td>3</td>\n",
       "    </tr>\n",
       "    <tr>\n",
       "      <th>3</th>\n",
       "      <td>1</td>\n",
       "      <td>Budgam</td>\n",
       "      <td>47.00</td>\n",
       "      <td>low</td>\n",
       "      <td>2</td>\n",
       "      <td>4</td>\n",
       "    </tr>\n",
       "    <tr>\n",
       "      <th>4</th>\n",
       "      <td>1</td>\n",
       "      <td>Doda</td>\n",
       "      <td>76.94</td>\n",
       "      <td>high</td>\n",
       "      <td>1</td>\n",
       "      <td>5</td>\n",
       "    </tr>\n",
       "  </tbody>\n",
       "</table>\n",
       "</div>"
      ],
      "text/plain": [
       "   State District_name  Literacy_rate Literacy_rate_category  \\\n",
       "0      1     Bandipore          52.65                    low   \n",
       "1      1      Anantnag          62.42                    low   \n",
       "2      1     Baramulla          55.01                    low   \n",
       "3      1        Budgam          47.00                    low   \n",
       "4      1          Doda          76.94                   high   \n",
       "\n",
       "   Literacy_rate_category_number  District_number  \n",
       "0                              2                1  \n",
       "1                              2                2  \n",
       "2                              2                3  \n",
       "3                              2                4  \n",
       "4                              1                5  "
      ]
     },
     "execution_count": 4,
     "metadata": {},
     "output_type": "execute_result"
    }
   ],
   "source": [
    "# view of first five rows of data \n",
    "df.head()"
   ]
  },
  {
   "cell_type": "code",
   "execution_count": 5,
   "id": "8a4c679f",
   "metadata": {},
   "outputs": [
    {
     "data": {
      "text/html": [
       "<div>\n",
       "<style scoped>\n",
       "    .dataframe tbody tr th:only-of-type {\n",
       "        vertical-align: middle;\n",
       "    }\n",
       "\n",
       "    .dataframe tbody tr th {\n",
       "        vertical-align: top;\n",
       "    }\n",
       "\n",
       "    .dataframe thead th {\n",
       "        text-align: right;\n",
       "    }\n",
       "</style>\n",
       "<table border=\"1\" class=\"dataframe\">\n",
       "  <thead>\n",
       "    <tr style=\"text-align: right;\">\n",
       "      <th></th>\n",
       "      <th>State</th>\n",
       "      <th>District_name</th>\n",
       "      <th>Literacy_rate</th>\n",
       "      <th>Literacy_rate_category</th>\n",
       "      <th>Literacy_rate_category_number</th>\n",
       "      <th>District_number</th>\n",
       "    </tr>\n",
       "  </thead>\n",
       "  <tbody>\n",
       "    <tr>\n",
       "      <th>619</th>\n",
       "      <td>26</td>\n",
       "      <td>Sitapur</td>\n",
       "      <td>59.58</td>\n",
       "      <td>low</td>\n",
       "      <td>2</td>\n",
       "      <td>620</td>\n",
       "    </tr>\n",
       "    <tr>\n",
       "      <th>620</th>\n",
       "      <td>26</td>\n",
       "      <td>Sonbhadra</td>\n",
       "      <td>59.60</td>\n",
       "      <td>low</td>\n",
       "      <td>2</td>\n",
       "      <td>621</td>\n",
       "    </tr>\n",
       "    <tr>\n",
       "      <th>621</th>\n",
       "      <td>26</td>\n",
       "      <td>Sultanpur</td>\n",
       "      <td>77.20</td>\n",
       "      <td>high</td>\n",
       "      <td>1</td>\n",
       "      <td>622</td>\n",
       "    </tr>\n",
       "    <tr>\n",
       "      <th>622</th>\n",
       "      <td>26</td>\n",
       "      <td>Unnao</td>\n",
       "      <td>69.87</td>\n",
       "      <td>low</td>\n",
       "      <td>2</td>\n",
       "      <td>623</td>\n",
       "    </tr>\n",
       "    <tr>\n",
       "      <th>623</th>\n",
       "      <td>26</td>\n",
       "      <td>Varanasi</td>\n",
       "      <td>72.92</td>\n",
       "      <td>low</td>\n",
       "      <td>2</td>\n",
       "      <td>624</td>\n",
       "    </tr>\n",
       "  </tbody>\n",
       "</table>\n",
       "</div>"
      ],
      "text/plain": [
       "     State District_name  Literacy_rate Literacy_rate_category  \\\n",
       "619     26       Sitapur          59.58                    low   \n",
       "620     26     Sonbhadra          59.60                    low   \n",
       "621     26     Sultanpur          77.20                   high   \n",
       "622     26         Unnao          69.87                    low   \n",
       "623     26      Varanasi          72.92                    low   \n",
       "\n",
       "     Literacy_rate_category_number  District_number  \n",
       "619                              2              620  \n",
       "620                              2              621  \n",
       "621                              1              622  \n",
       "622                              2              623  \n",
       "623                              2              624  "
      ]
     },
     "execution_count": 5,
     "metadata": {},
     "output_type": "execute_result"
    }
   ],
   "source": [
    "# view of last five rows of data\n",
    "df.tail()"
   ]
  },
  {
   "cell_type": "code",
   "execution_count": 6,
   "id": "54225a7e",
   "metadata": {},
   "outputs": [
    {
     "name": "stdout",
     "output_type": "stream",
     "text": [
      "<class 'pandas.core.frame.DataFrame'>\n",
      "RangeIndex: 624 entries, 0 to 623\n",
      "Data columns (total 6 columns):\n",
      " #   Column                         Non-Null Count  Dtype  \n",
      "---  ------                         --------------  -----  \n",
      " 0   State                          624 non-null    int64  \n",
      " 1   District_name                  624 non-null    object \n",
      " 2   Literacy_rate                  624 non-null    float64\n",
      " 3   Literacy_rate_category         624 non-null    object \n",
      " 4   Literacy_rate_category_number  624 non-null    int64  \n",
      " 5   District_number                624 non-null    int64  \n",
      "dtypes: float64(1), int64(3), object(2)\n",
      "memory usage: 29.4+ KB\n"
     ]
    }
   ],
   "source": [
    "# print of information of df \n",
    "df.info()"
   ]
  },
  {
   "cell_type": "code",
   "execution_count": 7,
   "id": "15b74798",
   "metadata": {},
   "outputs": [
    {
     "data": {
      "text/plain": [
       "State                            0\n",
       "District_name                    0\n",
       "Literacy_rate                    0\n",
       "Literacy_rate_category           0\n",
       "Literacy_rate_category_number    0\n",
       "District_number                  0\n",
       "dtype: int64"
      ]
     },
     "execution_count": 7,
     "metadata": {},
     "output_type": "execute_result"
    }
   ],
   "source": [
    "# checking of null values\n",
    "df.isnull().sum()"
   ]
  },
  {
   "cell_type": "code",
   "execution_count": 8,
   "id": "0d176dae",
   "metadata": {},
   "outputs": [],
   "source": [
    "data=df.drop(['District_name','Literacy_rate_category'], axis = 1)"
   ]
  },
  {
   "cell_type": "code",
   "execution_count": 9,
   "id": "62372be0",
   "metadata": {},
   "outputs": [
    {
     "data": {
      "text/html": [
       "<div>\n",
       "<style scoped>\n",
       "    .dataframe tbody tr th:only-of-type {\n",
       "        vertical-align: middle;\n",
       "    }\n",
       "\n",
       "    .dataframe tbody tr th {\n",
       "        vertical-align: top;\n",
       "    }\n",
       "\n",
       "    .dataframe thead th {\n",
       "        text-align: right;\n",
       "    }\n",
       "</style>\n",
       "<table border=\"1\" class=\"dataframe\">\n",
       "  <thead>\n",
       "    <tr style=\"text-align: right;\">\n",
       "      <th></th>\n",
       "      <th>State</th>\n",
       "      <th>Literacy_rate</th>\n",
       "      <th>Literacy_rate_category_number</th>\n",
       "      <th>District_number</th>\n",
       "    </tr>\n",
       "  </thead>\n",
       "  <tbody>\n",
       "    <tr>\n",
       "      <th>0</th>\n",
       "      <td>1</td>\n",
       "      <td>52.65</td>\n",
       "      <td>2</td>\n",
       "      <td>1</td>\n",
       "    </tr>\n",
       "    <tr>\n",
       "      <th>1</th>\n",
       "      <td>1</td>\n",
       "      <td>62.42</td>\n",
       "      <td>2</td>\n",
       "      <td>2</td>\n",
       "    </tr>\n",
       "    <tr>\n",
       "      <th>2</th>\n",
       "      <td>1</td>\n",
       "      <td>55.01</td>\n",
       "      <td>2</td>\n",
       "      <td>3</td>\n",
       "    </tr>\n",
       "    <tr>\n",
       "      <th>3</th>\n",
       "      <td>1</td>\n",
       "      <td>47.00</td>\n",
       "      <td>2</td>\n",
       "      <td>4</td>\n",
       "    </tr>\n",
       "    <tr>\n",
       "      <th>4</th>\n",
       "      <td>1</td>\n",
       "      <td>76.94</td>\n",
       "      <td>1</td>\n",
       "      <td>5</td>\n",
       "    </tr>\n",
       "  </tbody>\n",
       "</table>\n",
       "</div>"
      ],
      "text/plain": [
       "   State  Literacy_rate  Literacy_rate_category_number  District_number\n",
       "0      1          52.65                              2                1\n",
       "1      1          62.42                              2                2\n",
       "2      1          55.01                              2                3\n",
       "3      1          47.00                              2                4\n",
       "4      1          76.94                              1                5"
      ]
     },
     "execution_count": 9,
     "metadata": {},
     "output_type": "execute_result"
    }
   ],
   "source": [
    "data.head()"
   ]
  },
  {
   "cell_type": "code",
   "execution_count": 40,
   "id": "dd44048b",
   "metadata": {},
   "outputs": [
    {
     "data": {
      "text/plain": [
       "State                            0\n",
       "Literacy_rate                    0\n",
       "Literacy_rate_category_number    0\n",
       "District_number                  0\n",
       "dtype: int64"
      ]
     },
     "execution_count": 40,
     "metadata": {},
     "output_type": "execute_result"
    }
   ],
   "source": [
    "# checking of null values\n",
    "data.isnull().sum()"
   ]
  },
  {
   "cell_type": "markdown",
   "id": "601d8262",
   "metadata": {},
   "source": [
    "# Splitting the data"
   ]
  },
  {
   "cell_type": "code",
   "execution_count": 20,
   "id": "24a275d3",
   "metadata": {},
   "outputs": [],
   "source": [
    "x= data.drop(columns=\"Literacy_rate_category_number\", axis=1)\n",
    "y= data[\"Literacy_rate_category_number\"]"
   ]
  },
  {
   "cell_type": "markdown",
   "id": "7a1a099f",
   "metadata": {},
   "source": [
    "# Building the model"
   ]
  },
  {
   "cell_type": "code",
   "execution_count": 21,
   "id": "fa0014c3",
   "metadata": {},
   "outputs": [],
   "source": [
    "# splitting the data into train and test data\n",
    "x_train,x_test,y_train,y_test=train_test_split(x,y,test_size=0.2,stratify=y, random_state=2)"
   ]
  },
  {
   "cell_type": "code",
   "execution_count": 37,
   "id": "5642a27d",
   "metadata": {},
   "outputs": [
    {
     "name": "stdout",
     "output_type": "stream",
     "text": [
      "0.8597194388777555\n"
     ]
    }
   ],
   "source": [
    "knn_cv.fit(x_train,y_train)\n",
    "x_test_prediction =knn_cv.predict(x_train)\n",
    "test_data_accuracy = accuracy_score(x_test_prediction, y_train)\n",
    "print(test_data_accuracy)"
   ]
  },
  {
   "cell_type": "code",
   "execution_count": 36,
   "id": "c20b8ab4",
   "metadata": {},
   "outputs": [
    {
     "name": "stdout",
     "output_type": "stream",
     "text": [
      "0.728\n"
     ]
    }
   ],
   "source": [
    "knn_cv.fit(x_test,y_test)\n",
    "x_test_prediction =knn_cv.predict(x_test)\n",
    "test_data_accuracy = accuracy_score(x_test_prediction, y_test)\n",
    "print(test_data_accuracy)"
   ]
  },
  {
   "cell_type": "code",
   "execution_count": 23,
   "id": "33439c46",
   "metadata": {},
   "outputs": [],
   "source": [
    "model=LogisticRegression()\n",
    "model.fit(x_train,y_train)\n",
    "x_train_prediction =model.predict(x_train)\n",
    "training_data_accuracy = accuracy_score(x_train_prediction, y_train)"
   ]
  },
  {
   "cell_type": "code",
   "execution_count": 24,
   "id": "3d398a26",
   "metadata": {},
   "outputs": [
    {
     "name": "stdout",
     "output_type": "stream",
     "text": [
      "accuracy score for training data :  1.0\n"
     ]
    }
   ],
   "source": [
    "print(\"accuracy score for training data : \",training_data_accuracy)"
   ]
  },
  {
   "cell_type": "code",
   "execution_count": 25,
   "id": "2b886dd2",
   "metadata": {},
   "outputs": [],
   "source": [
    "model=LogisticRegression()\n",
    "model.fit(x_test,y_test)\n",
    "x_test_prediction =model.predict(x_test)\n",
    "test_data_accuracy = accuracy_score(x_test_prediction, y_test)"
   ]
  },
  {
   "cell_type": "code",
   "execution_count": 26,
   "id": "ac9e0700",
   "metadata": {},
   "outputs": [
    {
     "name": "stdout",
     "output_type": "stream",
     "text": [
      "accuracy score for training data :  0.984\n"
     ]
    }
   ],
   "source": [
    "print(\"accuracy score for training data : \",test_data_accuracy)"
   ]
  },
  {
   "cell_type": "code",
   "execution_count": 32,
   "id": "7e9196e1",
   "metadata": {},
   "outputs": [
    {
     "name": "stdout",
     "output_type": "stream",
     "text": [
      "1.0\n"
     ]
    }
   ],
   "source": [
    "rfc = RandomForestClassifier(random_state = 42)\n",
    "rfc.fit(x_train,y_train)\n",
    "x_test_prediction =rfc.predict(x_train)\n",
    "train_data_accuracy = accuracy_score(x_train_prediction, y_train)\n",
    "print(train_data_accuracy)"
   ]
  },
  {
   "cell_type": "code",
   "execution_count": 33,
   "id": "17892f68",
   "metadata": {},
   "outputs": [
    {
     "name": "stdout",
     "output_type": "stream",
     "text": [
      "1.0\n"
     ]
    }
   ],
   "source": [
    "rfc = RandomForestClassifier(random_state = 42)\n",
    "rfc.fit(x_test,y_test)\n",
    "x_test_prediction =rfc.predict(x_test)\n",
    "test_data_accuracy = accuracy_score(x_test_prediction, y_test)\n",
    "print(test_data_accuracy)"
   ]
  },
  {
   "cell_type": "code",
   "execution_count": 38,
   "id": "2c79aac9",
   "metadata": {},
   "outputs": [
    {
     "name": "stdout",
     "output_type": "stream",
     "text": [
      "[1]\n"
     ]
    }
   ],
   "source": [
    "input_data=(27,76.8,106)\n",
    "input_data_asarray=np.asarray(input_data)\n",
    "input_data_reshape=input_data_asarray.reshape(1,-1)\n",
    "New_data_prediction = model.predict(input_data_reshape)\n",
    "print(New_data_prediction)"
   ]
  },
  {
   "cell_type": "code",
   "execution_count": 39,
   "id": "5c275cd7",
   "metadata": {},
   "outputs": [
    {
     "name": "stdout",
     "output_type": "stream",
     "text": [
      "[2]\n"
     ]
    }
   ],
   "source": [
    "input_data=(1,69.8,475)\n",
    "input_data_asarray=np.asarray(input_data)\n",
    "input_data_reshape=input_data_asarray.reshape(1,-1)\n",
    "New_data_prediction = model.predict(input_data_reshape)\n",
    "print(New_data_prediction)"
   ]
  }
 ],
 "metadata": {
  "kernelspec": {
   "display_name": "Python 3",
   "language": "python",
   "name": "python3"
  },
  "language_info": {
   "codemirror_mode": {
    "name": "ipython",
    "version": 3
   },
   "file_extension": ".py",
   "mimetype": "text/x-python",
   "name": "python",
   "nbconvert_exporter": "python",
   "pygments_lexer": "ipython3",
   "version": "3.8.8"
  }
 },
 "nbformat": 4,
 "nbformat_minor": 5
}
